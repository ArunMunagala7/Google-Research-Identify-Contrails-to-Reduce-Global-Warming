{
 "cells": [
  {
   "cell_type": "code",
   "execution_count": 1,
   "id": "ffad2a93",
   "metadata": {
    "execution": {
     "iopub.execute_input": "2023-05-15T04:54:24.326231Z",
     "iopub.status.busy": "2023-05-15T04:54:24.325754Z",
     "iopub.status.idle": "2023-05-15T04:54:24.339851Z",
     "shell.execute_reply": "2023-05-15T04:54:24.338571Z"
    },
    "papermill": {
     "duration": 0.023081,
     "end_time": "2023-05-15T04:54:24.342984",
     "exception": false,
     "start_time": "2023-05-15T04:54:24.319903",
     "status": "completed"
    },
    "tags": []
   },
   "outputs": [],
   "source": [
    "# This Python 3 environment comes with many helpful analytics libraries installed\n",
    "# It is defined by the kaggle/python Docker image: https://github.com/kaggle/docker-python\n",
    "# For example, here's several helpful packages to load\n",
    "\n",
    "import numpy as np # linear algebra\n",
    "import pandas as pd # data processing, CSV file I/O (e.g. pd.read_csv)\n",
    "\n",
    "# Input data files are available in the read-only \"../input/\" directory\n",
    "# For example, running this (by clicking run or pressing Shift+Enter) will list all files under the input directory\n",
    "\n",
    "import os\n",
    "for dirname, _, filenames in os.walk('/kaggle/input'):\n",
    "    for filename in filenames:\n",
    "        print(os.path.join(dirname, filename))\n",
    "\n",
    "# You can write up to 20GB to the current directory (/kaggle/working/) that gets preserved as output when you create a version using \"Save & Run All\" \n",
    "# You can also write temporary files to /kaggle/temp/, but they won't be saved outside of the current session"
   ]
  },
  {
   "cell_type": "markdown",
   "id": "64ba4c66",
   "metadata": {
    "papermill": {
     "duration": 0.003331,
     "end_time": "2023-05-15T04:54:24.350583",
     "exception": false,
     "start_time": "2023-05-15T04:54:24.347252",
     "status": "completed"
    },
    "tags": []
   },
   "source": [
    "installing simdkalan"
   ]
  },
  {
   "cell_type": "code",
   "execution_count": 2,
   "id": "5e93e8ee",
   "metadata": {
    "execution": {
     "iopub.execute_input": "2023-05-15T04:54:24.360699Z",
     "iopub.status.busy": "2023-05-15T04:54:24.360252Z",
     "iopub.status.idle": "2023-05-15T04:54:40.263987Z",
     "shell.execute_reply": "2023-05-15T04:54:40.262699Z"
    },
    "papermill": {
     "duration": 15.911678,
     "end_time": "2023-05-15T04:54:40.266824",
     "exception": false,
     "start_time": "2023-05-15T04:54:24.355146",
     "status": "completed"
    },
    "tags": []
   },
   "outputs": [
    {
     "name": "stdout",
     "output_type": "stream",
     "text": [
      "Collecting simdkalman\r\n",
      "  Downloading simdkalman-1.0.2-py2.py3-none-any.whl (11 kB)\r\n",
      "Requirement already satisfied: numpy>=1.9.0 in /opt/conda/lib/python3.10/site-packages (from simdkalman) (1.23.5)\r\n",
      "Installing collected packages: simdkalman\r\n",
      "Successfully installed simdkalman-1.0.2\r\n",
      "\u001b[33mWARNING: Running pip as the 'root' user can result in broken permissions and conflicting behaviour with the system package manager. It is recommended to use a virtual environment instead: https://pip.pypa.io/warnings/venv\u001b[0m\u001b[33m\r\n",
      "\u001b[0m"
     ]
    }
   ],
   "source": [
    "! pip install simdkalman"
   ]
  },
  {
   "cell_type": "code",
   "execution_count": 3,
   "id": "19388dbf",
   "metadata": {
    "execution": {
     "iopub.execute_input": "2023-05-15T04:54:40.277650Z",
     "iopub.status.busy": "2023-05-15T04:54:40.277044Z",
     "iopub.status.idle": "2023-05-15T04:54:40.290650Z",
     "shell.execute_reply": "2023-05-15T04:54:40.289263Z"
    },
    "papermill": {
     "duration": 0.02221,
     "end_time": "2023-05-15T04:54:40.293418",
     "exception": false,
     "start_time": "2023-05-15T04:54:40.271208",
     "status": "completed"
    },
    "tags": []
   },
   "outputs": [],
   "source": [
    "import simdkalman\n",
    "import numpy as np\n",
    "\n",
    "kf = simdkalman.KalmanFilter(\n",
    "    state_transition = [[1,1],[0,1]],        # matrix A\n",
    "    process_noise = np.diag([0.1, 0.01]),    # Q\n",
    "    observation_model = np.array([[1,0]]),   # H\n",
    "    observation_noise = 1.0)                 # R"
   ]
  },
  {
   "cell_type": "code",
   "execution_count": 4,
   "id": "30b25349",
   "metadata": {
    "execution": {
     "iopub.execute_input": "2023-05-15T04:54:40.304228Z",
     "iopub.status.busy": "2023-05-15T04:54:40.303795Z",
     "iopub.status.idle": "2023-05-15T04:54:40.311225Z",
     "shell.execute_reply": "2023-05-15T04:54:40.309899Z"
    },
    "papermill": {
     "duration": 0.016356,
     "end_time": "2023-05-15T04:54:40.314062",
     "exception": false,
     "start_time": "2023-05-15T04:54:40.297706",
     "status": "completed"
    },
    "tags": []
   },
   "outputs": [],
   "source": [
    "import numpy.random as random\n",
    "\n",
    "# 100 independent time series\n",
    "data = random.normal(size=(100, 200))\n",
    "\n",
    "# with 10% of NaNs denoting missing values\n",
    "data[random.uniform(size=data.shape) < 0.1] = np.nan"
   ]
  },
  {
   "cell_type": "code",
   "execution_count": 5,
   "id": "cb6fd3d7",
   "metadata": {
    "execution": {
     "iopub.execute_input": "2023-05-15T04:54:40.325586Z",
     "iopub.status.busy": "2023-05-15T04:54:40.325108Z",
     "iopub.status.idle": "2023-05-15T04:54:40.582778Z",
     "shell.execute_reply": "2023-05-15T04:54:40.581411Z"
    },
    "papermill": {
     "duration": 0.268323,
     "end_time": "2023-05-15T04:54:40.587628",
     "exception": false,
     "start_time": "2023-05-15T04:54:40.319305",
     "status": "completed"
    },
    "tags": []
   },
   "outputs": [
    {
     "name": "stdout",
     "output_type": "stream",
     "text": [
      "mean\n",
      "[ 0.09431513 -0.07343122]\n",
      "covariance\n",
      "[[ 0.20418438 -0.01144361]\n",
      " [-0.01144361  0.02668252]]\n"
     ]
    }
   ],
   "source": [
    "smoothed = kf.smooth(data,\n",
    "                     initial_value = [1,0],\n",
    "                     initial_covariance = np.eye(2) * 0.5)\n",
    "\n",
    "# second timeseries, third time step, hidden state x\n",
    "print('mean')\n",
    "print(smoothed.states.mean[1,2,:])\n",
    "\n",
    "print('covariance')\n",
    "print(smoothed.states.cov[1,2,:,:])"
   ]
  },
  {
   "cell_type": "code",
   "execution_count": 6,
   "id": "626f005f",
   "metadata": {
    "execution": {
     "iopub.execute_input": "2023-05-15T04:54:40.605323Z",
     "iopub.status.busy": "2023-05-15T04:54:40.603549Z",
     "iopub.status.idle": "2023-05-15T04:54:40.670239Z",
     "shell.execute_reply": "2023-05-15T04:54:40.668939Z"
    },
    "papermill": {
     "duration": 0.076824,
     "end_time": "2023-05-15T04:54:40.673318",
     "exception": false,
     "start_time": "2023-05-15T04:54:40.596494",
     "status": "completed"
    },
    "tags": []
   },
   "outputs": [
    {
     "name": "stdout",
     "output_type": "stream",
     "text": [
      "1.52822 +- 1.65145\n"
     ]
    }
   ],
   "source": [
    "predicted = kf.predict(data[1,:], 123)\n",
    "\n",
    "# predicted observation y, third new time step\n",
    "pred_mean = predicted.observations.mean[2]\n",
    "pred_stdev = np.sqrt(predicted.observations.cov[2])\n",
    "\n",
    "print('%g +- %g' % (pred_mean, pred_stdev))"
   ]
  },
  {
   "cell_type": "code",
   "execution_count": null,
   "id": "37ba5759",
   "metadata": {
    "papermill": {
     "duration": 0.004065,
     "end_time": "2023-05-15T04:54:40.681650",
     "exception": false,
     "start_time": "2023-05-15T04:54:40.677585",
     "status": "completed"
    },
    "tags": []
   },
   "outputs": [],
   "source": []
  }
 ],
 "metadata": {
  "kernelspec": {
   "display_name": "Python 3",
   "language": "python",
   "name": "python3"
  },
  "language_info": {
   "codemirror_mode": {
    "name": "ipython",
    "version": 3
   },
   "file_extension": ".py",
   "mimetype": "text/x-python",
   "name": "python",
   "nbconvert_exporter": "python",
   "pygments_lexer": "ipython3",
   "version": "3.10.10"
  },
  "papermill": {
   "default_parameters": {},
   "duration": 34.008063,
   "end_time": "2023-05-15T04:54:41.712014",
   "environment_variables": {},
   "exception": null,
   "input_path": "__notebook__.ipynb",
   "output_path": "__notebook__.ipynb",
   "parameters": {},
   "start_time": "2023-05-15T04:54:07.703951",
   "version": "2.4.0"
  }
 },
 "nbformat": 4,
 "nbformat_minor": 5
}

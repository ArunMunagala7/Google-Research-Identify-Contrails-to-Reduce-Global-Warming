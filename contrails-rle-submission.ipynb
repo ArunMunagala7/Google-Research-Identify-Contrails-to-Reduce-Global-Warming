{
 "cells": [
  {
   "cell_type": "markdown",
   "id": "63912ce5",
   "metadata": {
    "papermill": {
     "duration": 0.003649,
     "end_time": "2023-05-13T11:55:02.395907",
     "exception": false,
     "start_time": "2023-05-13T11:55:02.392258",
     "status": "completed"
    },
    "tags": []
   },
   "source": [
    "# How to make a submission using the Run-Length Encoding format"
   ]
  },
  {
   "cell_type": "code",
   "execution_count": 1,
   "id": "c0998910",
   "metadata": {
    "_cell_guid": "b1076dfc-b9ad-4769-8c92-a6c4dae69d19",
    "_uuid": "8f2839f25d086af736a60e9eeb907d3b93b6e0e5",
    "execution": {
     "iopub.execute_input": "2023-05-13T11:55:02.404712Z",
     "iopub.status.busy": "2023-05-13T11:55:02.404212Z",
     "iopub.status.idle": "2023-05-13T11:55:02.413141Z",
     "shell.execute_reply": "2023-05-13T11:55:02.411808Z"
    },
    "papermill": {
     "duration": 0.01727,
     "end_time": "2023-05-13T11:55:02.416178",
     "exception": false,
     "start_time": "2023-05-13T11:55:02.398908",
     "status": "completed"
    },
    "tags": []
   },
   "outputs": [],
   "source": [
    "import os\n",
    "import numpy as np\n",
    "import pandas as pd\n",
    "\n",
    "import matplotlib.pyplot as plt\n",
    "\n",
    "from pathlib import Path\n",
    "data_path = Path('/kaggle/input/google-research-identify-contrails-reduce-global-warming')"
   ]
  },
  {
   "cell_type": "markdown",
   "id": "5050b72b",
   "metadata": {
    "papermill": {
     "duration": 0.002692,
     "end_time": "2023-05-13T11:55:02.422059",
     "exception": false,
     "start_time": "2023-05-13T11:55:02.419367",
     "status": "completed"
    },
    "tags": []
   },
   "source": [
    "## Run-Length Code\n",
    "\n",
    "The following is code to both encode and decode RLE format.\n",
    "\n",
    "IMPORTANT: Unlike many previous Kaggle competition, empty predictions must be encoded as `'-'`. Empty string / null predictions will cause an error in scoring. The code below handles this change."
   ]
  },
  {
   "cell_type": "code",
   "execution_count": 2,
   "id": "e204f038",
   "metadata": {
    "execution": {
     "iopub.execute_input": "2023-05-13T11:55:02.429488Z",
     "iopub.status.busy": "2023-05-13T11:55:02.429108Z",
     "iopub.status.idle": "2023-05-13T11:55:02.439345Z",
     "shell.execute_reply": "2023-05-13T11:55:02.438351Z"
    },
    "papermill": {
     "duration": 0.016467,
     "end_time": "2023-05-13T11:55:02.441469",
     "exception": false,
     "start_time": "2023-05-13T11:55:02.425002",
     "status": "completed"
    },
    "tags": []
   },
   "outputs": [],
   "source": [
    "def rle_encode(x, fg_val=1):\n",
    "    \"\"\"\n",
    "    Args:\n",
    "        x:  numpy array of shape (height, width), 1 - mask, 0 - background\n",
    "    Returns: run length encoding as list\n",
    "    \"\"\"\n",
    "\n",
    "    dots = np.where(\n",
    "        x.T.flatten() == fg_val)[0]  # .T sets Fortran order down-then-right\n",
    "    run_lengths = []\n",
    "    prev = -2\n",
    "    for b in dots:\n",
    "        if b > prev + 1:\n",
    "            run_lengths.extend((b + 1, 0))\n",
    "        run_lengths[-1] += 1\n",
    "        prev = b\n",
    "    return run_lengths\n",
    "\n",
    "\n",
    "def list_to_string(x):\n",
    "    \"\"\"\n",
    "    Converts list to a string representation\n",
    "    Empty list returns '-'\n",
    "    \"\"\"\n",
    "    if x: # non-empty list\n",
    "        s = str(x).replace(\"[\", \"\").replace(\"]\", \"\").replace(\",\", \"\")\n",
    "    else:\n",
    "        s = '-'\n",
    "    return s\n",
    "\n",
    "\n",
    "def rle_decode(mask_rle, shape=(256, 256)):\n",
    "    '''\n",
    "    mask_rle: run-length as string formatted (start length)\n",
    "              empty predictions need to be encoded with '-'\n",
    "    shape: (height, width) of array to return \n",
    "    Returns numpy array, 1 - mask, 0 - background\n",
    "    '''\n",
    "\n",
    "    img = np.zeros(shape[0]*shape[1], dtype=np.uint8)\n",
    "    if mask_rle != '-': \n",
    "        s = mask_rle.split()\n",
    "        starts, lengths = [np.asarray(x, dtype=int) for x in (s[0:][::2], s[1:][::2])]\n",
    "        starts -= 1\n",
    "        ends = starts + lengths\n",
    "        for lo, hi in zip(starts, ends):\n",
    "            img[lo:hi] = 1\n",
    "    return img.reshape(shape, order='F')  # Needed to align to RLE direction"
   ]
  },
  {
   "cell_type": "markdown",
   "id": "7b761061",
   "metadata": {
    "papermill": {
     "duration": 0.002655,
     "end_time": "2023-05-13T11:55:02.447200",
     "exception": false,
     "start_time": "2023-05-13T11:55:02.444545",
     "status": "completed"
    },
    "tags": []
   },
   "source": [
    "## Create a naive submission\n",
    "\n",
    "We'll use just `band_08` and predict that the 1000 pixels with the highest numerical values are contrails."
   ]
  },
  {
   "cell_type": "code",
   "execution_count": 3,
   "id": "19fc30a6",
   "metadata": {
    "execution": {
     "iopub.execute_input": "2023-05-13T11:55:02.454732Z",
     "iopub.status.busy": "2023-05-13T11:55:02.453791Z",
     "iopub.status.idle": "2023-05-13T11:55:02.463682Z",
     "shell.execute_reply": "2023-05-13T11:55:02.462995Z"
    },
    "papermill": {
     "duration": 0.015892,
     "end_time": "2023-05-13T11:55:02.465880",
     "exception": false,
     "start_time": "2023-05-13T11:55:02.449988",
     "status": "completed"
    },
    "tags": []
   },
   "outputs": [
    {
     "name": "stdout",
     "output_type": "stream",
     "text": [
      "['1002653297254493116', '1000834164244036115']\n"
     ]
    }
   ],
   "source": [
    "test_recs = os.listdir(data_path / 'test')\n",
    "print(test_recs)"
   ]
  },
  {
   "cell_type": "code",
   "execution_count": 4,
   "id": "9fc5f209",
   "metadata": {
    "execution": {
     "iopub.execute_input": "2023-05-13T11:55:02.474106Z",
     "iopub.status.busy": "2023-05-13T11:55:02.473348Z",
     "iopub.status.idle": "2023-05-13T11:55:02.737579Z",
     "shell.execute_reply": "2023-05-13T11:55:02.736865Z"
    },
    "papermill": {
     "duration": 0.270086,
     "end_time": "2023-05-13T11:55:02.739357",
     "exception": false,
     "start_time": "2023-05-13T11:55:02.469271",
     "status": "completed"
    },
    "tags": []
   },
   "outputs": [
    {
     "data": {
      "image/png": "[encoded data removed]",
      "text/plain": [
       "<Figure size 640x480 with 1 Axes>"
      ]
     },
     "metadata": {},
     "output_type": "display_data"
    }
   ],
   "source": [
    "n = 1000\n",
    "band_08 = np.load(data_path / 'test' / test_recs[0] / 'band_08.npy').sum(axis=2)\n",
    "# https://stackoverflow.com/a/57105712\n",
    "preds = np.c_[np.unravel_index(np.argpartition(band_08.ravel(),-n)[-n:],band_08.shape)]\n",
    "mask = np.zeros((256, 266))\n",
    "mask[preds[:, 0], preds[:, 1]] = 1\n",
    "\n",
    "plt.imshow(mask, cmap='Greys')\n",
    "plt.title(\"Obviously Not Contrails\", fontsize='16')\n",
    "plt.show()"
   ]
  },
  {
   "cell_type": "markdown",
   "id": "00274c07",
   "metadata": {
    "papermill": {
     "duration": 0.002989,
     "end_time": "2023-05-13T11:55:02.745732",
     "exception": false,
     "start_time": "2023-05-13T11:55:02.742743",
     "status": "completed"
    },
    "tags": []
   },
   "source": [
    "## Convert to RLE"
   ]
  },
  {
   "cell_type": "code",
   "execution_count": 5,
   "id": "6a8a0c0d",
   "metadata": {
    "execution": {
     "iopub.execute_input": "2023-05-13T11:55:02.755448Z",
     "iopub.status.busy": "2023-05-13T11:55:02.753352Z",
     "iopub.status.idle": "2023-05-13T11:55:02.762110Z",
     "shell.execute_reply": "2023-05-13T11:55:02.761169Z"
    },
    "papermill": {
     "duration": 0.015295,
     "end_time": "2023-05-13T11:55:02.764189",
     "exception": false,
     "start_time": "2023-05-13T11:55:02.748894",
     "status": "completed"
    },
    "tags": []
   },
   "outputs": [
    {
     "data": {
      "text/plain": [
       "'231 26 487 26 743 26 999 26 1255 26 1511 26 1768 25 2024 25 2279 26 2535 26 2792 25 3048 7 3057 1 3061 12 3305 5 3319 10 3561 4 3575 10 3817 2 3831 10 4073 1 4088 9 4344 9 4600 9 4856 9 5113 8 5370 7 5627 6 7165 3 7420 4 7673 8 7928 9 8184 9 8439 10 8694 11 8950 11 9206 11 9461 12 9716 13 9972 13 10227 14 10482 15 10738 14 10993 15 11249 14 11504 14 11760 13 12015 14 12271 13 12527 12 12786 8 45057 1 45313 1 45569 1 45825 1 46081 1 46337 1 46593 1 46849 1 47105 2 47361 2 47617 2 47873 2 48129 3 48385 3 48641 3 48897 2 49153 2 49409 2 49665 3 49921 3 50177 3 50433 4 50689 4 50945 4 51201 4 51457 4 51713 4 51969 4 52225 4 52481 4 52737 4 52993 4 53249 4 53505 5 53761 5 54017 5 54273 5 54529 5 54785 6 55041 6 55297 6 55553 6 55809 6 56065 6 56321 6 56577 6 56833 6 57089 7 57345 8 57601 8 57857 8 58113 7 58369 7 58625 5 58881 5 59137 5 59393 6 59649 6 59905 7 60161 7 60417 7 60673 7 60929 7 61185 7 61441 8 61697 8 61953 8 62209 9 62465 9 62721 9 62981 5 63239 1'"
      ]
     },
     "execution_count": 5,
     "metadata": {},
     "output_type": "execute_result"
    }
   ],
   "source": [
    "list_to_string(rle_encode(mask))"
   ]
  },
  {
   "cell_type": "markdown",
   "id": "8cbc4570",
   "metadata": {
    "papermill": {
     "duration": 0.003168,
     "end_time": "2023-05-13T11:55:02.771042",
     "exception": false,
     "start_time": "2023-05-13T11:55:02.767874",
     "status": "completed"
    },
    "tags": []
   },
   "source": [
    "## Now let's automate a submission"
   ]
  },
  {
   "cell_type": "code",
   "execution_count": 6,
   "id": "6b6acf28",
   "metadata": {
    "execution": {
     "iopub.execute_input": "2023-05-13T11:55:02.779728Z",
     "iopub.status.busy": "2023-05-13T11:55:02.778830Z",
     "iopub.status.idle": "2023-05-13T11:55:02.930522Z",
     "shell.execute_reply": "2023-05-13T11:55:02.929469Z"
    },
    "papermill": {
     "duration": 0.15834,
     "end_time": "2023-05-13T11:55:02.932714",
     "exception": false,
     "start_time": "2023-05-13T11:55:02.774374",
     "status": "completed"
    },
    "tags": []
   },
   "outputs": [
    {
     "data": {
      "text/html": [
       "<div>\n",
       "<style scoped>\n",
       "    .dataframe tbody tr th:only-of-type {\n",
       "        vertical-align: middle;\n",
       "    }\n",
       "\n",
       "    .dataframe tbody tr th {\n",
       "        vertical-align: top;\n",
       "    }\n",
       "\n",
       "    .dataframe thead th {\n",
       "        text-align: right;\n",
       "    }\n",
       "</style>\n",
       "<table border=\"1\" class=\"dataframe\">\n",
       "  <thead>\n",
       "    <tr style=\"text-align: right;\">\n",
       "      <th></th>\n",
       "      <th>encoded_pixels</th>\n",
       "    </tr>\n",
       "    <tr>\n",
       "      <th>record_id</th>\n",
       "      <th></th>\n",
       "    </tr>\n",
       "  </thead>\n",
       "  <tbody>\n",
       "    <tr>\n",
       "      <th>1000834164244036115</th>\n",
       "      <td>133 24 390 23 646 23 902 22 1160 20 1418 17 16...</td>\n",
       "    </tr>\n",
       "    <tr>\n",
       "      <th>1002653297254493116</th>\n",
       "      <td>231 26 487 26 743 26 999 26 1255 26 1511 26 17...</td>\n",
       "    </tr>\n",
       "  </tbody>\n",
       "</table>\n",
       "</div>"
      ],
      "text/plain": [
       "                                                        encoded_pixels\n",
       "record_id                                                             \n",
       "1000834164244036115  133 24 390 23 646 23 902 22 1160 20 1418 17 16...\n",
       "1002653297254493116  231 26 487 26 743 26 999 26 1255 26 1511 26 17..."
      ]
     },
     "execution_count": 6,
     "metadata": {},
     "output_type": "execute_result"
    }
   ],
   "source": [
    "submission = pd.read_csv(data_path / 'sample_submission.csv', index_col='record_id')\n",
    "\n",
    "for rec in test_recs:\n",
    "    band_08 = np.load(data_path / 'test' / rec / 'band_08.npy').sum(axis=2)\n",
    "    preds = np.c_[np.unravel_index(np.argpartition(band_08.ravel(),-n)[-n:],band_08.shape)]\n",
    "    mask = np.zeros((256, 266))\n",
    "    mask[preds[:, 0], preds[:, 1]] = 1\n",
    "    # notice the we're converting rec to an `int` here:\n",
    "    submission.loc[int(rec), 'encoded_pixels'] = list_to_string(rle_encode(mask))\n",
    "\n",
    "submission.head()"
   ]
  },
  {
   "cell_type": "code",
   "execution_count": 7,
   "id": "3cbe28ac",
   "metadata": {
    "execution": {
     "iopub.execute_input": "2023-05-13T11:55:02.941681Z",
     "iopub.status.busy": "2023-05-13T11:55:02.941326Z",
     "iopub.status.idle": "2023-05-13T11:55:02.950781Z",
     "shell.execute_reply": "2023-05-13T11:55:02.949774Z"
    },
    "papermill": {
     "duration": 0.016665,
     "end_time": "2023-05-13T11:55:02.953112",
     "exception": false,
     "start_time": "2023-05-13T11:55:02.936447",
     "status": "completed"
    },
    "tags": []
   },
   "outputs": [],
   "source": [
    "submission.to_csv('submission.csv')"
   ]
  }
 ],
 "metadata": {
  "kernelspec": {
   "display_name": "Python 3",
   "language": "python",
   "name": "python3"
  },
  "language_info": {
   "codemirror_mode": {
    "name": "ipython",
    "version": 3
   },
   "file_extension": ".py",
   "mimetype": "text/x-python",
   "name": "python",
   "nbconvert_exporter": "python",
   "pygments_lexer": "ipython3",
   "version": "3.7.12"
  },
  "papermill": {
   "default_parameters": {},
   "duration": 11.620585,
   "end_time": "2023-05-13T11:55:03.577370",
   "environment_variables": {},
   "exception": null,
   "input_path": "__notebook__.ipynb",
   "output_path": "__notebook__.ipynb",
   "parameters": {},
   "start_time": "2023-05-13T11:54:51.956785",
   "version": "2.4.0"
  }
 },
 "nbformat": 4,
 "nbformat_minor": 5
}
